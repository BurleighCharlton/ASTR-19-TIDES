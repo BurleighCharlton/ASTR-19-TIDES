{
 "cells": [
  {
   "cell_type": "markdown",
   "metadata": {},
   "source": [
    "# Tidal Analysis\n",
    "## Group Members: Burleigh Charlton\n",
    "This notebook uses tidal measurements taken in Santa Cruz, California between in January and February 2022 and fits an oscilatorry function to it the data. Subsequent minor data analysis is done on the fit and a tsunami outlier is considered"
   ]
  },
  {
   "cell_type": "markdown",
   "metadata": {},
   "source": [
    "## Import Libraries and set plot style"
   ]
  },
  {
   "cell_type": "code",
   "execution_count": null,
   "metadata": {
    "id": "4Tr6CkXCfB0D"
   },
   "outputs": [],
   "source": [
    "from scipy import optimize\n",
    "import pandas as pd\n",
    "import numpy as np\n",
    "import matplotlib.pyplot as plt"
   ]
  },
  {
   "cell_type": "code",
   "execution_count": null,
   "metadata": {},
   "outputs": [],
   "source": [
    "plt.style.use('seaborn')\n",
    "plt.rcParams['figure.dpi'] = 120"
   ]
  },
  {
   "cell_type": "markdown",
   "metadata": {},
   "source": [
    "## Import Data and Prep for analysis"
   ]
  },
  {
   "cell_type": "code",
   "execution_count": null,
   "metadata": {
    "colab": {
     "base_uri": "https://localhost:8080/",
     "height": 206
    },
    "id": "emfoS_SWfug_",
    "outputId": "ac1495ae-064e-40e0-aa33-b33a2e23ab63"
   },
   "outputs": [],
   "source": [
    "colnames=['day', 'time', 'tide'] \n",
    "df = pd.read_fwf(r'ASTR19_S22_group_project_data.txt', header=None, skiprows=(0,1,2), names=colnames)\n",
    "df.head()"
   ]
  },
  {
   "cell_type": "markdown",
   "metadata": {},
   "source": [
    "### Convert Conventional Time to Float"
   ]
  },
  {
   "cell_type": "code",
   "execution_count": null,
   "metadata": {
    "id": "B-yn-0Vru_gN"
   },
   "outputs": [],
   "source": [
    "def timeto_min(ts):\n",
    "  '''\n",
    "  takes a string representing the time and returns minutes from start of day\n",
    "  '''\n",
    "  minutes = sum(int(x) * 60 ** i for i, x in enumerate(reversed(ts.split(':'))))\n",
    "  return minutes"
   ]
  },
  {
   "cell_type": "code",
   "execution_count": null,
   "metadata": {
    "id": "9_WuizFXvR-1"
   },
   "outputs": [],
   "source": [
    "h= df['day']\n",
    "h = 24 * 60 * h\n",
    "ti= df['time']\n",
    "ti = np.array(list(map(timeto_min, ti)))"
   ]
  },
  {
   "cell_type": "code",
   "execution_count": null,
   "metadata": {
    "id": "67swX6G3nrSA"
   },
   "outputs": [],
   "source": [
    "#After looking at the results created by minutes I believe that hours may be a more suitable metric\n",
    "x = h+ti\n",
    "x = x/60\n",
    "#x now represents hours"
   ]
  },
  {
   "cell_type": "code",
   "execution_count": null,
   "metadata": {
    "colab": {
     "base_uri": "https://localhost:8080/",
     "height": 283
    },
    "id": "VOW5FzAXyZ3w",
    "outputId": "df25739b-ef8e-415d-8527-a21e20a55036"
   },
   "outputs": [],
   "source": [
    "#Check that the data is monotonically increasing via a plot\n",
    "plt.plot(x)\n",
    "plt.title('Time In Hours')"
   ]
  },
  {
   "cell_type": "code",
   "execution_count": null,
   "metadata": {},
   "outputs": [],
   "source": [
    "#and now we store it in the dataframe\n",
    "df['hours'] = x"
   ]
  },
  {
   "cell_type": "code",
   "execution_count": null,
   "metadata": {},
   "outputs": [],
   "source": [
    "max(x)"
   ]
  },
  {
   "cell_type": "code",
   "execution_count": null,
   "metadata": {
    "id": "VT6YCkt2tYAi"
   },
   "outputs": [],
   "source": [
    "df['y_error'] = np.full(len(df['tide']), .25)"
   ]
  },
  {
   "cell_type": "markdown",
   "metadata": {},
   "source": [
    "### Initial Plot of Data"
   ]
  },
  {
   "cell_type": "code",
   "execution_count": null,
   "metadata": {
    "colab": {
     "base_uri": "https://localhost:8080/",
     "height": 283
    },
    "id": "uZEGKCPUt79H",
    "outputId": "a2e71415-fc1c-42b9-b4a3-f5c7df8455be"
   },
   "outputs": [],
   "source": [
    "plt.plot( df['hours'], df['tide'], label = 'raw data')\n",
    "plt.xlabel('time in hours from year start')\n",
    "plt.ylabel('tide height in feet')\n",
    "plt.title('Raw Data')\n",
    "plt.legend()\n",
    "plt.savefig('data.png')"
   ]
  },
  {
   "cell_type": "markdown",
   "metadata": {},
   "source": [
    "## Curve Fitting"
   ]
  },
  {
   "cell_type": "code",
   "execution_count": null,
   "metadata": {},
   "outputs": [],
   "source": [
    "#here we create an interpolated set of time data to plot our model against\n",
    "hours_i = np.linspace(1,1000,10000)"
   ]
  },
  {
   "cell_type": "markdown",
   "metadata": {},
   "source": [
    "This objecive function is of the form $(a_1 \\cdot \\sin(f_1 \\cdot x + p_1 ) + a_2\\cdot \\sin(f_2 \\cdot x +p_2) + h_{offset}) \\cdot a_o(\\sin(f_o \\cdot x)  + p_o)  + v_{offset}$ where $a$s are amplitudes, $p$s are phases, and $f$s are freqiencies.  \n",
    "This is designed such that I sum two freqencies with around 2 week and 4 week periods to represent the oscillating amplitude, on the 24 hour tidal changes. \n",
    "This is reflected in my inital guesses"
   ]
  },
  {
   "cell_type": "code",
   "execution_count": null,
   "metadata": {},
   "outputs": [],
   "source": [
    "#with another amplitude parameter\n",
    "##now lets try and make it have a sinusoidal wave as an amplitude to get intra day variation\n",
    "#(a1 * sin(f1 * x + p1 ) + a2* sin(f2 * x +p2)  * (sin(fo * x)  + po) + vertical_offsetmean\n",
    "def three_sine(x, a1, f1,p1, a2, f2,p2, hoff,ao,fo,po,v):\n",
    "  return  (a1 * np.sin(f1*x + p1) + a2* np.sin(f2*x + p2) + hoff) * ao *(np.sin(fo*x + po)) + v\n",
    "params, paramscov = optimize.curve_fit(three_sine,x, df['tide'], p0=[1.5,(2*np.pi/730),4,6,(2*np.pi/336),2,1,3,(2*np.pi/24),3.22,2], sigma=df['y_error'])#p0=[1,(2*np.pi/730),1,1,(2*np.pi/336),1,(2*np.pi/24),2.22,2]\n",
    "\n",
    "a1_fit   = params[0]\n",
    "f1_fit   = params[ 1]\n",
    "p1_fit   = params[2 ]\n",
    "a2_fit   = params[ 3]\n",
    "f2_fit   = params[4 ]\n",
    "p2_fit   = params[5]\n",
    "hoff_fit = params[6 ]\n",
    "ao_fit   = params[ 7]\n",
    "fo_fit   = params[8]\n",
    "po_fit   = params[ 9]\n",
    "v_fit    = params[10]\n",
    "\n",
    "print(params)\n",
    "omodel_fit =  ( a1_fit * np.sin(f1_fit*x + p1_fit) +  a2_fit * np.sin(f2_fit*x + p2_fit) + hoff_fit) * ao_fit* (np.sin(fo_fit*x + po_fit)) + v_fit\n",
    "df['omodel_fit'] = omodel_fit\n",
    "omodel_i_fit = ( a1_fit * np.sin(f1_fit*hours_i + p1_fit) +  a2_fit * np.sin(f2_fit*hours_i + p2_fit) + hoff_fit) *ao_fit* (np.sin(fo_fit*hours_i + po_fit)) + v_fit"
   ]
  },
  {
   "cell_type": "code",
   "execution_count": null,
   "metadata": {},
   "outputs": [],
   "source": [
    "#Here we plot the model against our smooth representative time space\n",
    "plt.plot(hours_i, omodel_i_fit)\n",
    "plt.title('Oscillatory Model')\n",
    "plt.xlabel('time in hours from year start')\n",
    "plt.ylabel('tide height in feet')\n",
    "plt.savefig('fit.png')"
   ]
  },
  {
   "cell_type": "markdown",
   "metadata": {},
   "source": [
    "## Fit Plot against Data"
   ]
  },
  {
   "cell_type": "code",
   "execution_count": null,
   "metadata": {},
   "outputs": [],
   "source": [
    "#f = plt.figure(figsize = (7,7))\n",
    "#plt.errorbar(df['hours'],df['tide'], yerr = df['y_error'], fmt = 'o', label = 'data with error')\n",
    "plt.plot(df['hours'],df['tide'], label = 'data')\n",
    "plt.plot(df['hours'],omodel_fit, label = 'oscillatory model fit')\n",
    "#plt.plot(x,tide_fit, label = 'tide_fit')\n",
    "plt.xlabel('time in hours from year start')\n",
    "plt.ylabel('tide height in feet')\n",
    "plt.legend(loc = 'upper right' )\n",
    "plt.title('Data and Model')\n",
    "plt.savefig('fitvdata.png')"
   ]
  },
  {
   "cell_type": "code",
   "execution_count": null,
   "metadata": {},
   "outputs": [],
   "source": [
    "#f = plt.figure(figsize = (7,7))\n",
    "plt.errorbar(df['hours'],df['tide'], yerr = df['y_error'], fmt = 'o', label = 'data with error')\n",
    "#plt.plot(df['hours'],df['tide'], label = 'data')\n",
    "plt.plot(df['hours'],omodel_fit, label = 'oscillatory fit')\n",
    "#plt.plot(x,tide_fit, label = 'tide_fit')\n",
    "plt.xlabel('time in hours from year start')\n",
    "plt.ylabel('tide height in feet')\n",
    "leg = plt.legend(loc = 'upper right', frameon = True )\n",
    "leg.get_frame().set_edgecolor('b')\n",
    "plt.title('Data and Model With Expected Error')\n",
    "plt.savefig('fitvdata.png')"
   ]
  },
  {
   "cell_type": "markdown",
   "metadata": {},
   "source": [
    "## Residual Analysis"
   ]
  },
  {
   "cell_type": "code",
   "execution_count": null,
   "metadata": {},
   "outputs": [],
   "source": [
    "df['residuals'] = df['tide'] - df['omodel_fit']"
   ]
  },
  {
   "cell_type": "code",
   "execution_count": null,
   "metadata": {},
   "outputs": [],
   "source": [
    "df['residuals'].describe()"
   ]
  },
  {
   "cell_type": "code",
   "execution_count": null,
   "metadata": {},
   "outputs": [],
   "source": [
    "plt.plot(df['hours'],df['residuals'])\n",
    "plt.xlabel('time in hours from year start')\n",
    "plt.ylabel('Residual Error')\n",
    "#leg = plt.legend(loc = 'upper right', frameon = True )\n",
    "leg.get_frame().set_edgecolor('b')\n",
    "plt.title('Residuals over time')\n",
    "plt.savefig('ResidualPlot.png')"
   ]
  },
  {
   "cell_type": "code",
   "execution_count": null,
   "metadata": {},
   "outputs": [],
   "source": [
    "plt.hist(df['residuals'], bins = 14, label = 'residuals to data', alpha=0.7, rwidth=0.85)\n",
    "plt.xlabel('Residual Error')\n",
    "plt.ylabel('Frequency')\n",
    "plt.text(.6, 10, r'$\\mu=0, \\sigma=0.45$')\n",
    "plt.title('Histogram of Residuals')\n",
    "plt.legend()\n",
    "plt.savefig('ResidualHist.png')"
   ]
  },
  {
   "cell_type": "markdown",
   "metadata": {},
   "source": [
    "In my fit the residuals are very centered around 0 indicating that the the offset is well calibrated, but there are signfigant errors in the actual fit. With a standard deviation of .45 we are worse off than the expected inaccuracies in our data. The maximum residual found was 1.  \n",
    "\n"
   ]
  },
  {
   "cell_type": "markdown",
   "metadata": {},
   "source": [
    "## Hunga Tonga-Hunga Ha'apai Volcano Eruption Tsunami Analysis\n",
    "Here we add an outlier of a 2ft swell to our model we can see how unlikely this is"
   ]
  },
  {
   "cell_type": "code",
   "execution_count": null,
   "metadata": {},
   "outputs": [],
   "source": [
    "plt.hist(pd.concat([df['residuals'], pd.Series([2])]), bins = 14, label = 'residuals to data', alpha=0.7, rwidth=0.85)\n",
    "plt.xlabel('Residual Error')\n",
    "plt.ylabel('Frequency')\n",
    "#plt.text(.6, 10, r'$\\mu=0, \\sigma=0.45$')\n",
    "plt.title('Histogram of Residuals with Outlier')\n",
    "plt.legend()\n",
    "plt.savefig('ResidualHist_outlier.png')"
   ]
  },
  {
   "cell_type": "markdown",
   "metadata": {},
   "source": [
    "To calculate how unlikely this event is we can check the z score via $\\frac{x - \\mu}{\\sigma}$"
   ]
  },
  {
   "cell_type": "code",
   "execution_count": null,
   "metadata": {},
   "outputs": [],
   "source": [
    "zscore = (2 - df['residuals'].mean())/df['residuals'].std()\n",
    "print(zscore)"
   ]
  },
  {
   "cell_type": "markdown",
   "metadata": {},
   "source": [
    "So with a z-score of 4.45 we can calculate the probability that this is an outlier or that it is inherent in the model"
   ]
  },
  {
   "cell_type": "code",
   "execution_count": null,
   "metadata": {},
   "outputs": [],
   "source": [
    "from scipy.special import erf\n",
    "zf = lambda zs: (.5*(1+ erf(zs/2 **.5)))\n",
    "1 -(zf(zscore) - zf(-1*zscore))"
   ]
  },
  {
   "cell_type": "markdown",
   "metadata": {},
   "source": [
    "Assuming a gaussian distribution of residuals, the chance that this tide occurs naturally is  8.986910277508642e-06\n",
    "So we can say with 99.999% confidence that this is an outlier in our model."
   ]
  }
 ],
 "metadata": {
  "colab": {
   "name": "groupproject.ipynb",
   "provenance": []
  },
  "kernelspec": {
   "display_name": "Python 3 (ipykernel)",
   "language": "python",
   "name": "python3"
  },
  "language_info": {
   "codemirror_mode": {
    "name": "ipython",
    "version": 3
   },
   "file_extension": ".py",
   "mimetype": "text/x-python",
   "name": "python",
   "nbconvert_exporter": "python",
   "pygments_lexer": "ipython3",
   "version": "3.10.4"
  }
 },
 "nbformat": 4,
 "nbformat_minor": 1
}
